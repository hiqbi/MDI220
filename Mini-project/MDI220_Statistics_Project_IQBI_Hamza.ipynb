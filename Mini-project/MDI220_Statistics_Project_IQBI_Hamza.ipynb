{
 "cells": [
  {
   "cell_type": "markdown",
   "id": "4ad97eaf",
   "metadata": {},
   "source": [
    "# MDI220 : Statistics\n",
    "# Project : nuclear power accidents 2016\n",
    "### IQBI Hamza"
   ]
  },
  {
   "cell_type": "code",
   "execution_count": 1,
   "id": "45741654",
   "metadata": {},
   "outputs": [],
   "source": [
    "import pandas as pd\n",
    "import numpy as np\n",
    "from os import path\n",
    "from scipy import stats\n",
    "import matplotlib.pyplot as plt"
   ]
  },
  {
   "cell_type": "markdown",
   "id": "cc128e49",
   "metadata": {},
   "source": [
    "### Exercise 1.1 :"
   ]
  },
  {
   "cell_type": "code",
   "execution_count": 2,
   "id": "8f0cbfec",
   "metadata": {},
   "outputs": [
    {
     "name": "stdout",
     "output_type": "stream",
     "text": [
      "The number of nuclear accidents before the Three Mile Island is : 55\n"
     ]
    },
    {
     "data": {
      "text/html": [
       "<div>\n",
       "<style scoped>\n",
       "    .dataframe tbody tr th:only-of-type {\n",
       "        vertical-align: middle;\n",
       "    }\n",
       "\n",
       "    .dataframe tbody tr th {\n",
       "        vertical-align: top;\n",
       "    }\n",
       "\n",
       "    .dataframe thead th {\n",
       "        text-align: right;\n",
       "    }\n",
       "</style>\n",
       "<table border=\"1\" class=\"dataframe\">\n",
       "  <thead>\n",
       "    <tr style=\"text-align: right;\">\n",
       "      <th></th>\n",
       "      <th>Date</th>\n",
       "      <th>Location</th>\n",
       "      <th>Cost (millions 2013US$)</th>\n",
       "    </tr>\n",
       "  </thead>\n",
       "  <tbody>\n",
       "    <tr>\n",
       "      <th>4</th>\n",
       "      <td>1957-09-11</td>\n",
       "      <td>Rocky Flats, USA</td>\n",
       "      <td>8189.0</td>\n",
       "    </tr>\n",
       "    <tr>\n",
       "      <th>5</th>\n",
       "      <td>1955-03-25</td>\n",
       "      <td>Sellafield, UK</td>\n",
       "      <td>4400.0</td>\n",
       "    </tr>\n",
       "    <tr>\n",
       "      <th>6</th>\n",
       "      <td>1977-01-01</td>\n",
       "      <td>Beloyarsk, USSR</td>\n",
       "      <td>3500.0</td>\n",
       "    </tr>\n",
       "    <tr>\n",
       "      <th>7</th>\n",
       "      <td>1955-07-14</td>\n",
       "      <td>Sellafield, UK</td>\n",
       "      <td>2900.0</td>\n",
       "    </tr>\n",
       "    <tr>\n",
       "      <th>8</th>\n",
       "      <td>1969-10-12</td>\n",
       "      <td>Sellafield, UK</td>\n",
       "      <td>2500.0</td>\n",
       "    </tr>\n",
       "  </tbody>\n",
       "</table>\n",
       "</div>"
      ],
      "text/plain": [
       "        Date          Location  Cost (millions 2013US$)\n",
       "4 1957-09-11  Rocky Flats, USA                   8189.0\n",
       "5 1955-03-25    Sellafield, UK                   4400.0\n",
       "6 1977-01-01   Beloyarsk, USSR                   3500.0\n",
       "7 1955-07-14    Sellafield, UK                   2900.0\n",
       "8 1969-10-12    Sellafield, UK                   2500.0"
      ]
     },
     "execution_count": 2,
     "metadata": {},
     "output_type": "execute_result"
    }
   ],
   "source": [
    "path.join('/Users/IQBI Hamza/OneDrive/Bureau/2A/MDI220/', 'project/')\n",
    "df = pd.read_csv('C_id_35_NuclearPowerAccidents2016.csv', sep=',', usecols=['Date', 'Location', 'Cost (millions 2013US$)'],\n",
    "                                                                                                        low_memory=True)\n",
    "df['Date'] = pd.to_datetime(df['Date'], infer_datetime_format=True) #Convert to date type in order to compare\n",
    "df_bis = df[df['Date'] < '3/28/1979'] #The three mile accident occured on March 28, 1979\n",
    "df_clean = df_bis.dropna() #Remove all missing values\n",
    "n = len(df_clean)\n",
    "print(\"The number of nuclear accidents before the Three Mile Island is :\", n)\n",
    "df_clean.head()"
   ]
  },
  {
   "cell_type": "markdown",
   "id": "ff2c49c1",
   "metadata": {},
   "source": [
    "### Exercise 1.2 :\n"
   ]
  },
  {
   "cell_type": "markdown",
   "id": "e5001294",
   "metadata": {},
   "source": [
    "\n",
    "\n",
    "$\\text{Let}$ $X \\sim \\mathcal{N}(\\mu, \\sigma^2)$, $\\text{with}$ $\\theta = (\\mu, \\sigma^2)$\n",
    "\n",
    "$\\text{Let's show that :}$ \n",
    "$$(\\forall p \\in (0, 1)), F_\\theta^{-1}(p) = \\sigma F_{(0, 1)}^{-1}(p) + \\mu$$\n",
    "\n",
    "$\\text{We have}$ $F_\\theta(x) = \\frac{1}{2}[1+erf(\\frac{x-\\mu}{\\sqrt{2}\\sigma}]$ ; where $(\\forall z \\in \\mathbb{R})$, $erf(z) = \\frac{2}{\\sqrt{\\pi}} \\int_{0}^{z} \\exp({-t^2})dt$\n",
    "\n",
    "$F_\\theta$ $\\text{is continuous and strictly increasing, therefore its quantile function is equal to the inverse of}$ $F_\\theta$\n",
    "\n",
    "$\\text{Let}$ $x \\in \\mathbb{R}$ $\\text{and}$ $p \\in (0, 1)$ :\n",
    "\n",
    "\\begin{align} \n",
    "        F_\\theta^{-1}(p) = x &\\Leftrightarrow p = F_\\theta(x)\\\\\n",
    "                             &\\Leftrightarrow p = \\frac{1}{2}[1+erf(\\frac{x-\\mu}{\\sqrt{2}\\sigma}]\\\\\n",
    "                             &\\Leftrightarrow x = \\sqrt{2}\\sigma erf^{-1}(2p-1) + \\mu \\\\\n",
    "\\end{align}\n",
    "\n",
    "$\\text{Hence :}$\n",
    "$$\\forall p \\in (0, 1), F_\\theta^{-1}(p) = \\sqrt{2}\\sigma erf^{-1}(2p-1) + \\mu$$\n",
    "\n",
    "$\\text{In particular, since we consider}$\n",
    "$\\mu$ and $\\sigma$ $\\text{to be arbitrary parameters of this gaussian random variable, we may take}$ $\\mu = 0$ $\\text{and}$ $\\sigma = 1$\n",
    "\n",
    "$\\text{We get that for all}$\n",
    "$p$ in $(0, 1)$,  $F_{(0, 1)}^{-1}(p) = \\sqrt{2}erf^{-1}(2p-1)$\n",
    "\n",
    "$\\text{Finally, we have}$\n",
    "$$(\\forall p \\in (0, 1)), F_\\theta^{-1}(p) = \\sigma F_{(0, 1)}^{-1}(p) + \\mu$$\n"
   ]
  },
  {
   "cell_type": "code",
   "execution_count": 3,
   "id": "87b69dc8",
   "metadata": {},
   "outputs": [
    {
     "data": {
      "image/png": "[encoded data removed]",
      "text/plain": [
       "<Figure size 432x288 with 1 Axes>"
      ]
     },
     "metadata": {
      "needs_background": "light"
     },
     "output_type": "display_data"
    }
   ],
   "source": [
    "#The Q-Q plot of data for the gaussian model\n",
    "X = stats.probplot(df_clean['Cost (millions 2013US$)'], dist='norm', fit=True, plot=plt)"
   ]
  },
  {
   "cell_type": "markdown",
   "id": "20547975",
   "metadata": {},
   "source": [
    "### Exercise 1.3 :"
   ]
  },
  {
   "cell_type": "markdown",
   "id": "e600fe59",
   "metadata": {},
   "source": [
    "$\\text{Let}$ $F_\\theta$ $\\text{be the cumulative distribution function of an exponential distribution with parameter}$ $\\theta > 0$\n",
    "\n",
    "$\\text{We have that}$ $(\\forall x \\in \\mathbb{R}), F_\\theta(x) = 1 - \\exp{(-\\theta x)}$\n",
    "\n",
    "$F_\\theta$ $\\text{is continuous and strictly increasing, therefore its quantile function is equal to the inverse of}$ $F_\\theta$\n",
    "\n",
    "$\\text{Let}$ $(x \\in \\mathbb{R}), (p \\in [0, 1[)$\n",
    "\n",
    "\\begin{align}\n",
    "       F_\\theta^{-1}(p) = x &\\Leftrightarrow p = F_\\theta(x) \\\\\n",
    "                            &\\Leftrightarrow x = \\frac{1}{\\theta} (-\\ln(1-p)) \\\\\n",
    "\\end{align}\n",
    "\n",
    "$\\text{In particular, for}$ $\\theta = 1$ $\\text{, we get that for all p in [0, 1[ :}$ $F_\\theta^{-1}(p) = -\\ln(1-p)$\n",
    "\n",
    "$\\text{Finally, we have : }$ \n",
    "\n",
    "$$(\\forall p \\in [0, 1[), F_\\theta^{-1}(p) = \\frac{1}{\\theta} F_1^{-1}(p)$$"
   ]
  },
  {
   "cell_type": "code",
   "execution_count": 4,
   "id": "5890bba3",
   "metadata": {},
   "outputs": [
    {
     "data": {
      "image/png": "[encoded data removed]",
      "text/plain": [
       "<Figure size 432x288 with 1 Axes>"
      ]
     },
     "metadata": {
      "needs_background": "light"
     },
     "output_type": "display_data"
    }
   ],
   "source": [
    "#The Q-Q plot of data for an exponential model\n",
    "X = stats.probplot(df_clean['Cost (millions 2013US$)'], dist='expon', fit=True, plot=plt)"
   ]
  },
  {
   "cell_type": "markdown",
   "id": "ae152847",
   "metadata": {},
   "source": [
    "### Exercise 1.4 :\n"
   ]
  },
  {
   "cell_type": "raw",
   "id": "a87c9f1d",
   "metadata": {},
   "source": [
    "We can see that the Q-Q plot of data for an exponential model is well approximated by a line, whereas it's not quiet the case for the gaussian model. We can say that the data we're disposing of, based on the observations we got, follows an exponential model based on the results of Q3-a and Q2-a.\n",
    "\n",
    "This result is coherent because we know that the exponential distribution is the model that fits the best in order to manipulate rare events such as nuclear power accidents."
   ]
  },
  {
   "cell_type": "markdown",
   "id": "39d5ba39",
   "metadata": {},
   "source": [
    "### Exercise 2.1 :\n"
   ]
  },
  {
   "cell_type": "markdown",
   "id": "bcbf03d2",
   "metadata": {},
   "source": [
    "$\\text{Let's compute the maximum likelihood estimator}$ $\\hat{\\theta}$ $\\text{of}$ $\\theta$.\n",
    "\n",
    "$\\text{We have that :}$ \n",
    "$[\\hat{\\theta}(x) = argmax_{\\theta \\in \\mathbb{R+}} (p_{\\theta}(x)) = argmax_{\\theta \\in \\mathbb{R+}} \\log(p_{\\theta}(x))]$, $\\text{for all}$ $x \\in \\mathbb{R}^n$\n",
    "\n",
    "$\\text{Where}$ $p_{\\theta}$ $\\text{is the density of}$ $\\mathcal{P}_{\\theta}$ $\\text{with respect to the Lebesgue measure}$\n",
    "\n",
    "$\\text{We have that :}$\n",
    "$$ (\\forall (x_1, \\dots, x_n) \\in \\mathbb{R}^n), p_{\\theta}(x_1,\\dots, x_n) = \\prod_{k=1}^{n}(\\theta \\exp{(-\\theta x_k) \\mathbb{1}_{\\mathbb{R+}}(x_k))}$$\n",
    "\n",
    "$\\text{Let}$ $x = (x_1, \\dots, x_n) \\in \\mathbb{R+}^n$, $\\text{we have that :}$\n",
    "\\begin{align}\n",
    "       \\log(p_{\\theta}(x)) &= \\log(\\theta^n \\prod_{k=1}^{n} \\exp(-\\theta x_k)) \\\\\n",
    "                           &= n \\log(\\theta) - (\\sum_{k=1}^{n} x_k) \\theta \\\\\n",
    "\\end{align}\n",
    "\n",
    "$\\text{for x fixed in}$ $\\mathbb{R}^n$, $\\text{by taking the derivative, we have}$ : \n",
    "\n",
    "\\begin{align}\n",
    "       \\frac{\\partial \\log(p_{\\theta}(x))}{\\partial \\theta} = 0 &\\Leftrightarrow \\frac{n}{\\theta} - \\sum_{k=1}^{n} x_k = 0 \\\\\n",
    "                                                &\\Leftrightarrow \\theta = \\frac{n}{\\sum_{k=1}^{n}x_k} \\\\\n",
    "\\end{align}\n",
    "\n",
    "$\\text{Therefore, we can deduce that : }$\n",
    "\n",
    "$$(\\forall x = (x_1, \\dots, x_k) \\in \\mathbb{R}^n), \\quad \\hat{\\theta}(x) = \n",
    "\\begin{cases}\n",
    "       \\frac{n}{\\sum_{k=1}^{n}x_k} & if \\quad x_1, \\dots, x_n \\in \\mathbb{R+} \\\\\n",
    "       0 & otherwise\n",
    "\\end{cases}$$"
   ]
  },
  {
   "cell_type": "markdown",
   "id": "183830ea",
   "metadata": {},
   "source": [
    "### Exercise 2.2 :\n"
   ]
  },
  {
   "cell_type": "code",
   "execution_count": 25,
   "id": "ee4af916",
   "metadata": {},
   "outputs": [
    {
     "data": {
      "text/plain": [
       "Text(0, 0.5, 'density')"
      ]
     },
     "execution_count": 25,
     "metadata": {},
     "output_type": "execute_result"
    },
    {
     "data": {
      "image/png": "[encoded data removed]",
      "text/plain": [
       "<Figure size 720x288 with 1 Axes>"
      ]
     },
     "metadata": {
      "needs_background": "light"
     },
     "output_type": "display_data"
    }
   ],
   "source": [
    "df_clean = df_clean.rename(columns = {'Cost (millions 2013US$)' : 'Cost'})\n",
    "cost = df_clean['Cost'].to_numpy()\n",
    "MLestimator = len(cost)/sum(cost)\n",
    "\n",
    "fig = plt.figure(figsize = (10, 4))  \n",
    "ax = fig.add_subplot(111)\n",
    "plt.title(\"Histogramme of Data in density & the exponential density function\", fontsize=14)\n",
    "plt.hist(cost, density = True) \n",
    "plt.plot(cost, stats.expon.pdf(cost, scale = 1/MLestimator)) # scale : the expectation is given as an input to 'expon.pdf()'\n",
    "plt.xlabel(\"cost\", fontsize=12)\n",
    "plt.ylabel(\"density\", fontsize=12)"
   ]
  },
  {
   "cell_type": "markdown",
   "id": "34f8f217",
   "metadata": {},
   "source": [
    "### Exercise 2.3 :\n"
   ]
  },
  {
   "cell_type": "markdown",
   "id": "f5daf430",
   "metadata": {},
   "source": [
    "$\\text{The quadratic risk of the estimator}$ $\\hat{g}$ $\\text{is given by}$ : \n",
    "$$R(\\theta, \\hat{g}) = \\mathbb{E}[(\\hat{g}(X) - g(\\theta))^2]$$ \n",
    "$\\text{Then :}$\n",
    "\n",
    "\\begin{align}\n",
    "       R(\\theta, \\hat{g}) &= \\mathbb{E}[(\\frac{1}{n} \\sum_{k=1}^{n} X_k - \\frac{1}{\\theta})^2] \\\\\n",
    "                          &= \\frac{1}{n^2} \\mathbb{E}(\\sum_{k=1}^{n} (X_k - \\frac{1}{\\theta})^2] \\\\\n",
    "                          &= \\frac{1}{n^2}\\sum_{k=1}^{n}\\mathbb{E}[X_k^2] - \\frac{2}{n^2 \\theta}\\sum_{k=1}^{n}\\mathbb{E}[X_k] + \\frac{1}{n \\theta^2} \\\\       \n",
    "                          &= \\frac{1}{n^2}\\sum_{k=1}^{n} \\frac{2}{\\theta^2} - \\frac{2}{n^2 \\theta}\\sum_{k=1}^{n}\\frac{1}{\\theta} + \\frac{1}{n \\theta^2} \\\\\n",
    "       R(\\theta, \\hat{g}) &= \\frac{1}{n \\theta^2} \\\\\n",
    "\\end{align}\n",
    "\n",
    "$\\text{On the other hand, we have for one observation}$ $X_1$ $\\text{the Fisher information is given by :}$\n",
    "\n",
    "$$I_1(\\theta) = -\\mathbb{E}[\\frac{\\partial^2 log(p_{\\theta})}{\\partial \\theta^2}(X_1)] = \\frac{1}{\\theta^2}$$\n",
    "$\\text{Therefore, we have that}$ $I_n({\\theta}) = n I_1({\\theta}) = \\frac{n}{\\theta^2}$\n",
    "\n",
    "$\\text{We know that the quadratic risk of the estimator satisfies the Cramér-Rao baound :}$ $R(\\theta, \\hat{g}) \\ge \\frac{g'(\\theta)^2}{I_n(\\theta)}$\n",
    "\n",
    "$\\text{But, }$ \n",
    "$g'(\\theta) = \\frac{-1}{\\theta^2} \\Rightarrow \\frac{g'(\\theta)^2}{I_n(\\theta)} = \\frac{1}{n \\theta^2}$\n",
    "\n",
    "$\\text{Hence, the Cramér-Rao baound is reached, and the estimator}$ $\\hat{g}$ $\\text{is efficient}$. "
   ]
  },
  {
   "cell_type": "markdown",
   "id": "b6821066",
   "metadata": {},
   "source": [
    "### Exercise 2.4 :"
   ]
  },
  {
   "cell_type": "code",
   "execution_count": 6,
   "id": "ff9c4391",
   "metadata": {},
   "outputs": [
    {
     "name": "stdout",
     "output_type": "stream",
     "text": [
      "The value of the estimator g_hat is : 726.3363636363636\n"
     ]
    }
   ],
   "source": [
    "def g_hat(x):\n",
    "    return sum(x)/len(x)\n",
    "\n",
    "cost = df_clean['Cost'].to_numpy()\n",
    "g_hat = g_hat(cost)\n",
    "print(\"The value of the estimator g_hat is :\", g_hat)"
   ]
  },
  {
   "cell_type": "markdown",
   "id": "8b08ffe2",
   "metadata": {},
   "source": [
    "### Exercise 2.5"
   ]
  },
  {
   "cell_type": "markdown",
   "id": "4b5e477e",
   "metadata": {},
   "source": [
    "$\\text{Let}$ $\\eta > 0$, $\\text{we define the estimator}$ $g_{\\eta} = \\eta g$.\n",
    "\n",
    "$\\text{The estimator}$ $\\hat{g_{\\eta}}$ $\\text{is biased :}$\n",
    "$$(bias(\\theta, \\hat{g_{\\eta}})) =  \\mathbb{E}[\\hat{g_{\\eta}}(X) - \\frac{1}{\\theta}] = \\frac{\\eta - 1}{\\theta}$$\n",
    "\n",
    "$\\text{We have that}$ \n",
    "\n",
    "\\begin{align}\n",
    "       R(\\theta, \\hat{g_{\\eta}}) &= \\mathbb{E}[(\\hat{g_{\\eta}}(X) - g(\\theta)^2] + (bias(\\theta, \\hat{g_{\\eta}}))^2 \\\\\n",
    "                           &= \\mathbb{E}[(\\eta (\\hat{g}(X) - g(\\theta)))^2] + (\\frac{\\eta - 1}{\\theta})^2 \\\\\n",
    "                           &= \\eta^2 \\mathbb{E}[(\\hat{g}(X) - g(\\theta))^2] + (\\frac{\\eta - 1}{\\theta})^2 \\\\\n",
    "                           &= \\eta^2 R(\\theta, \\hat{g}) + (\\frac{\\eta - 1}{\\theta})^2 \\\\\n",
    "\\end{align}\n",
    "\n",
    "$\\text{In order to have}$ $R(\\theta, \\hat{g_{\\eta}}) < R(\\theta, \\hat{g})$, $\\text{we must, first of all, choose }$ $\\eta < 1$.\n",
    "\n",
    "$\\text{Then, }$\n",
    "\n",
    "\\begin{align}\n",
    "        R(\\theta, \\hat{g_{\\eta}}) < R(\\theta, \\hat{g}) & \\Leftrightarrow \\frac{\\eta^2}{n \\theta^2} + (\\frac{\\eta - 1}{\\theta})^2 < \\frac{1}{n \\theta^2} \\\\\n",
    "                                                       & \\Leftrightarrow \\eta^2 + n (1-\\eta)^2 < 1 \\\\\n",
    "                                                       & \\Leftrightarrow n (1-\\eta)^2 < (1-\\eta)(1+\\eta) \\\\\n",
    "                                                       & \\Leftrightarrow \\eta > \\frac{n-1}{n+1} \\\\\n",
    "\\end{align}\n",
    "\n",
    "$\\text{We get that}$ $R(\\theta, \\hat{g_{\\eta}}) < R(\\theta, \\hat{g}) \\Leftrightarrow \\eta \\in ]\\frac{n-1}{n+1}, 1[.$\n",
    "\n",
    "$\\text{With the choice of }$ $\\theta \\ in ]\\frac{n-1}{n+1}, 1[$, $\\text{we get that }$ $\\hat{g_{\\eta}}$ $\\text{is \"very close\" to }$ $\\hat{g}$.\n",
    "\n",
    "$\\text{This might be due to the fact that}$ $\\hat{g}$ $\\text{is an efficient estimator of }$ $g(\\theta)$, $\\text{so trying to obtain another estimator }$ $\\hat{g_{\\eta}} \\space s.t \\space g_{\\eta} = \\eta g$ $\\text{(even if biased) might be difficult}.$ "
   ]
  },
  {
   "cell_type": "markdown",
   "id": "a886d844",
   "metadata": {},
   "source": [
    "### Exercise 2.6 :"
   ]
  },
  {
   "cell_type": "markdown",
   "id": "57ca858c",
   "metadata": {},
   "source": [
    "$\\text{The median}$ $\\mathcal{M}$ $\\text{of an exponential law of parameter}$ $\\theta$ $\\text{is  given by :}$ $\\mathcal{M}_{\\theta} = \\frac{\\log(2)}{\\theta}$.\n",
    "\n",
    "$\\text{We have that : }$ $\\mathbb{E}[\\hat{g_{\\eta}(X)}] = \\eta \\mathbb{E}[\\hat{g}(X)] = \\frac{\\eta}{\\theta}.$\n",
    "\n",
    "$\\text{For}$ $\\hat{g_{\\eta}}$ $\\text{to be an unbiased estimator for the median cost, we must have }$ $\\mathcal{M}_{\\theta} = \\frac{\\eta}{\\theta}.$\n",
    "\n",
    "$\\text{Therefore, we must take }$ $\\eta = \\log(2).$"
   ]
  },
  {
   "cell_type": "code",
   "execution_count": 7,
   "id": "4daf018f",
   "metadata": {},
   "outputs": [
    {
     "name": "stdout",
     "output_type": "stream",
     "text": [
      "The estimator g_eta_hat is : 503.45800259270857\n",
      "The empirical median is : 87.7\n"
     ]
    }
   ],
   "source": [
    "n, s = len(cost), sum(cost)\n",
    "eta = np.log(2)\n",
    "g_eta = eta*s/n\n",
    "print(\"The estimator g_eta_hat is :\", g_eta)\n",
    "\n",
    "M = cost[(n+1)//2]\n",
    "print(\"The empirical median is :\", M)"
   ]
  },
  {
   "cell_type": "markdown",
   "id": "2e4a00a3",
   "metadata": {},
   "source": [
    "$\\text{The value of the unbiased estimator}$ $\\hat{g_{\\eta}}$ $\\text{is very considerably larger than the empirical median}.$"
   ]
  },
  {
   "cell_type": "markdown",
   "id": "c1417b68",
   "metadata": {},
   "source": [
    "### Exercise 2.7 :"
   ]
  },
  {
   "cell_type": "code",
   "execution_count": 8,
   "id": "04ae18c1",
   "metadata": {},
   "outputs": [
    {
     "name": "stdout",
     "output_type": "stream",
     "text": [
      "The quadratic risk associated to g is :  9592.082057099922\n",
      "The quadratic risk associated to g_eta is :  54283.308555590185\n",
      "Lower bound of eta for R_g_eta<R_ to hold :  0.9642857142857143\n",
      "The value of eta :  0.6931471805599453\n"
     ]
    }
   ],
   "source": [
    "theta = n/s\n",
    "R_g = 1/(n*(theta**2))\n",
    "R_g_eta = (eta**2)*R_g + ((eta-1)/theta)**2\n",
    "print(\"The quadratic risk associated to g is : \", R_g)\n",
    "print(\"The quadratic risk associated to g_eta is : \", R_g_eta)\n",
    "print(\"Lower bound of eta for R_g_eta<R_ to hold : \", (n-1)/(n+1))\n",
    "print(\"The value of eta : \", eta)"
   ]
  },
  {
   "cell_type": "markdown",
   "id": "2ff8a269",
   "metadata": {},
   "source": [
    "$\\text{We find that } R(\\theta, \\hat{g})<R(\\theta, \\hat{g_{\\eta}}), \\space \\text{which is normal since, for the value of } \\eta = \\log(2), \\space \\text{we have } \\eta < \\frac{n-1}{n+1} \\space \\rightsquigarrow (\\text{the condition on } \\eta \\space \\text{specified in 2.5 does not hold}).$"
   ]
  },
  {
   "cell_type": "markdown",
   "id": "cb900904",
   "metadata": {},
   "source": [
    "### Exercise 3.1 :"
   ]
  },
  {
   "cell_type": "markdown",
   "id": "c82cf58a",
   "metadata": {},
   "source": [
    "$\\text{The null hypothesis corresponds to an expected cost of at least one billion dollars. which means :} \\\\\n",
    "\\mathbb{E}_{\\theta}[X] \\ge 1000 \\space (\\forall \\theta \\in \\Theta_0) \\space \\space \\space \\text{(since, in the dataframe, the cost is expressed in millions of dollars)}.$\n",
    "\n",
    "$\\text{But we know that } \\mathbb{E}_{\\theta}[X] = \\frac{1}{\\theta}.$\n",
    "\n",
    "$\\text{Hence, we denote}\n",
    "\\begin{cases}\n",
    "      \\Theta_0 = ]0, \\theta_0] \\space & where \\space \\theta_0 = \\frac{1}{1000}\\\\\n",
    "      \\Theta_1 = ]\\theta_0, \\infty[ \\\\\n",
    "\\end{cases}$\n",
    "\n",
    "$\\text{So, the hypothesis are : }$\n",
    "$$\\underbrace{\\left (H_0 : \\left\\{\\theta \\in \\Theta_0 \\right\\} \\right)}_{\\text{The null hypothesis}} \\space \\space \\text{against} \\underbrace{\\left (H_1 : \\left\\{\\theta \\in \\Theta_1 \\right\\} \\right)}_{\\text{The alternative hypothesis}}.$$"
   ]
  },
  {
   "cell_type": "markdown",
   "id": "c43eeb1f",
   "metadata": {},
   "source": [
    "### Exercise 3.2 :"
   ]
  },
  {
   "cell_type": "markdown",
   "id": "eb5a6745",
   "metadata": {},
   "source": [
    "$\\text{The observation } (X_1, ..., X_n) \\text{ is an i.i.d n-sample of an exponential family, of density } p(x; \\theta). $\n",
    "\n",
    "$\\text{We have that } (\\forall x \\in \\mathbb{R}^n) :$\n",
    "\n",
    "\\begin{align}\n",
    "        p(x; \\theta) & = \\prod_{k=1}^{n}\\theta \\exp(-\\theta x_k) \\mathbb{1}_{[0, + \\infty[}(x_k) \\\\\n",
    "                     & = \\prod_{k=1}^{n}\\exp(\\log(\\theta)) \\exp(-\\theta x_k) \\mathbb{1}_{[0, + \\infty[}(x_k) \\space \\space \\space (since \\space \\theta>0)\\\\\n",
    "                     & = \\prod_{k=1}^{n}\\exp(-\\theta x_k + log(\\theta)) \\mathbb{1}_{[0, + \\infty[}(x_k) \\\\\n",
    "                     & = \\mathbb{1}_{\\mathbb{R+}^n}(x) \\exp(-\\theta \\sum_{k=1}^{n}x_k + n \\log(\\theta)) \\\\\n",
    "        p(x; \\theta) & = h(x) exp(\\phi(\\theta) T(x) - \\psi(\\theta)) \\\\\n",
    "\\end{align}\n",
    "\n",
    "$\\text{With } h = \\mathbb{1}_{\\mathbb{R+}^n}, \\space \\space\\phi = -id \\rightsquigarrow \\phi \\text{ is a decreasing function}.$\n",
    "\n",
    "$\\begin{array}{ccccc}\n",
    "T & : & \\mathbb{R}^n & \\to & \\mathbb{R} \\\\\n",
    " & & (x_1, ..., x_n) & \\mapsto &  \\sum_{k=1}^{n}x_k\\\\\n",
    "\\end{array} \\text{is a scalar statistic}$\n",
    "\n",
    "$\\text{And } \\psi : \\theta \\mapsto -n \\log(\\theta)$\n",
    "\n",
    "$\\text{Hence, the likelihood ratio is a decreasing function of T}$\n",
    "\n",
    "$\\text{The Neyman-Pearson’s approach states then that } \\delta = \\mathbb{1}_{T < c_{\\alpha}} \\text{ is a UPM test at level } \\alpha, \\text{ with } (\\alpha, c_{\\alpha}) \\text{ are such that : } \\mathbb{P}_{\\theta_0}(T(X) < c_{\\alpha}) = \\alpha. $\n",
    "\n",
    "$\\text{Let } \\alpha \\in (0, 1) \\text{ be fixed}.$\n",
    "$\\text{We have that } T(X) \\sim \\Gamma(n, \\theta), \\text{ since } X_1, ..., X_n \\text{ are n i.i.d random variables following an exponential distribution of parameter } \\theta.$\n",
    "\n",
    "$\\mathbb{P}_{\\theta_0}(T(X) < c_{\\alpha}) = \\alpha \\Leftrightarrow c_{\\alpha} = F_{T(X)}^{-1}(\\alpha), \\space \\text{where } F_{T(X)} \\text{ is the CDF of the random variable } T(X) ;\\space \\text{and } F_{T(X)}^{-1} \\text{ its quantile function}.$\n"
   ]
  },
  {
   "cell_type": "markdown",
   "id": "c340756a",
   "metadata": {},
   "source": [
    "### Exercise 3.3 :"
   ]
  },
  {
   "cell_type": "code",
   "execution_count": 9,
   "id": "5fef67f2",
   "metadata": {},
   "outputs": [
    {
     "name": "stdout",
     "output_type": "stream",
     "text": [
      "The value of c_alpha is :  43395.81385987552\n",
      "The value of T is :  39948.49999999999\n",
      "We have that T > c_alpha, so we reject H0, and decide H1.\n"
     ]
    }
   ],
   "source": [
    "alpha = 0.05\n",
    "theta_0 = 1/1000\n",
    "c_alpha = stats.gamma.ppf(alpha, n, scale = 1/theta_0) #The rate is theta_0 and is equal to 1/scale\n",
    "print(\"The value of c_alpha is : \", c_alpha)\n",
    "T = sum(cost)\n",
    "print(\"The value of T is : \", T)\n",
    "test = T < c_alpha\n",
    "if test :\n",
    "    print(\"We have that T > c_alpha, so we reject H0, and decide H1.\")\n",
    "else :\n",
    "    print(\"We have that T > c_alpha, so we reject H1, and decide H0.\")"
   ]
  },
  {
   "cell_type": "markdown",
   "id": "0fc32b40",
   "metadata": {},
   "source": [
    "### Exercise 3.4 :"
   ]
  },
  {
   "cell_type": "markdown",
   "id": "832177b7",
   "metadata": {},
   "source": [
    "$\\text{We have that } \\hat{g}(X) = \\frac{1}{n} \\sum_{k=1}^{n} X_k = \\frac{1}{n} T(X).$\n",
    "\n",
    "$\\text{Hence, } \\hat{g}(X) \\sim \\Gamma(n, n \\theta) \\space \\space (\\text{of rate } n \\theta).$"
   ]
  },
  {
   "cell_type": "code",
   "execution_count": 10,
   "id": "f2bf1443",
   "metadata": {},
   "outputs": [
    {
     "data": {
      "text/plain": [
       "<matplotlib.legend.Legend at 0x256dc57e3d0>"
      ]
     },
     "execution_count": 10,
     "metadata": {},
     "output_type": "execute_result"
    },
    {
     "data": {
      "image/png": "[encoded data removed]",
      "text/plain": [
       "<Figure size 1080x288 with 1 Axes>"
      ]
     },
     "metadata": {
      "needs_background": "light"
     },
     "output_type": "display_data"
    }
   ],
   "source": [
    "x1 = stats.gamma.ppf(0.001, n, scale = 1/(n*theta_0))\n",
    "x2 = stats.gamma.ppf(0.999, n, scale = 1/(n*theta_0))\n",
    "# x1 and x2 are in order to get \"significant\" regions of the cost, and to have a graph that is visually \n",
    "x = np.linspace(x1, x2)\n",
    "\n",
    "p_g = stats.gamma.pdf(x, n, scale = 1/(n*theta_0))\n",
    "fig = plt.figure(figsize = (15, 4))  \n",
    "ax = fig.add_subplot(111)\n",
    "plt.plot(x, p_g, label=\"Probability density of g_hat\")\n",
    "c = stats.gamma.ppf(alpha, n, scale = 1/(n*theta_0))\n",
    "plt.axvline(c, color='green', linestyle ='--')\n",
    "to_fill_x = np.arange(x1, c)\n",
    "to_fill_y = stats.gamma.pdf(to_fill_x, n, scale=1/(n*theta_0))\n",
    "plt.fill_between(to_fill_x, to_fill_y, color = 'green', label = \"The rejection region of H0 at level 5%\")\n",
    "plt.title(\"The plot of probability density of g_hat\", fontsize=14)\n",
    "plt.xlabel('Cost (millions 2013US$)', fontsize=13)\n",
    "plt.legend()"
   ]
  },
  {
   "cell_type": "markdown",
   "id": "d4926157",
   "metadata": {},
   "source": [
    "### Exercise 3.5 :"
   ]
  },
  {
   "cell_type": "markdown",
   "id": "5b789a9f",
   "metadata": {},
   "source": [
    "$\\text{We have that the power of the test at level } \\alpha \\text{ is : }$\n",
    "\n",
    "$(\\forall \\theta \\in \\Theta_1), \\space \\beta(\\theta, \\delta) = \\mathbb{P}_{\\theta}[\\delta(X)=1] = \\mathbb{P}_{\\theta}[T(X)<c_{\\alpha}]$"
   ]
  },
  {
   "cell_type": "code",
   "execution_count": 11,
   "id": "f302dfba",
   "metadata": {},
   "outputs": [
    {
     "data": {
      "text/plain": [
       "<matplotlib.legend.Legend at 0x256dc602670>"
      ]
     },
     "execution_count": 11,
     "metadata": {},
     "output_type": "execute_result"
    },
    {
     "data": {
      "image/png": "[encoded data removed]",
      "text/plain": [
       "<Figure size 1080x288 with 1 Axes>"
      ]
     },
     "metadata": {
      "needs_background": "light"
     },
     "output_type": "display_data"
    }
   ],
   "source": [
    "samples = [10, 50, 100, 1000]\n",
    "Theta = np.linspace(theta_0, 1e-2, 1000)\n",
    "\n",
    "fig = plt.figure(figsize = (15, 4))  \n",
    "ax = fig.add_subplot(211)\n",
    "\n",
    "for N in samples:\n",
    "    c = stats.gamma.ppf(alpha, N, scale=1/theta_0)\n",
    "    beta = stats.gamma.cdf(c, N, scale = 1/Theta)\n",
    "    plt.plot(Theta, beta, label = \"{}\".format(N)) \n",
    "\n",
    "plt.axvline(theta_0, color='red', linestyle ='--', label='The value of theta_0 : 0.0001')\n",
    "plt.title(\"Plot of the power of the test of level 5% with respect to theta\", fontsize=13)\n",
    "plt.xlabel('Values of theta', fontsize=11)\n",
    "plt.ylabel('Power of the test', fontsize=11)\n",
    "plt.legend()"
   ]
  },
  {
   "cell_type": "code",
   "execution_count": null,
   "id": "19fbe448",
   "metadata": {},
   "outputs": [],
   "source": []
  }
 ],
 "metadata": {
  "kernelspec": {
   "display_name": "Python 3 (ipykernel)",
   "language": "python",
   "name": "python3"
  },
  "language_info": {
   "codemirror_mode": {
    "name": "ipython",
    "version": 3
   },
   "file_extension": ".py",
   "mimetype": "text/x-python",
   "name": "python",
   "nbconvert_exporter": "python",
   "pygments_lexer": "ipython3",
   "version": "3.9.12"
  }
 },
 "nbformat": 4,
 "nbformat_minor": 5
}
